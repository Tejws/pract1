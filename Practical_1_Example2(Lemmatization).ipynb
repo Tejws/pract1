{
  "nbformat": 4,
  "nbformat_minor": 0,
  "metadata": {
    "colab": {
      "provenance": []
    },
    "kernelspec": {
      "name": "python3",
      "display_name": "Python 3"
    },
    "language_info": {
      "name": "python"
    }
  },
  "cells": [
    {
      "cell_type": "code",
      "execution_count": 1,
      "metadata": {
        "colab": {
          "base_uri": "https://localhost:8080/"
        },
        "id": "jVuiBbFDnZ1g",
        "outputId": "485b356d-25f4-4382-bbfc-26cb7344fb47"
      },
      "outputs": [
        {
          "output_type": "stream",
          "name": "stderr",
          "text": [
            "[nltk_data] Downloading package wordnet to /root/nltk_data...\n",
            "[nltk_data] Downloading package omw-1.4 to /root/nltk_data...\n"
          ]
        },
        {
          "output_type": "stream",
          "name": "stdout",
          "text": [
            "Lemma for Unexpected is Unexpected\n",
            "Lemma for disagreement is disagreement\n",
            "Lemma for disagree is disagree\n",
            "Lemma for agreement is agreement\n",
            "Lemma for quirkiness is quirkiness\n",
            "Lemma for historical is historical\n",
            "Lemma for studies is study\n",
            "Lemma for cleaning is cleaning\n"
          ]
        }
      ],
      "source": [
        "import nltk\n",
        "nltk.download('wordnet')\n",
        "nltk.download('omw-1.4')\n",
        "\n",
        "from nltk.stem import WordNetLemmatizer\n",
        "\n",
        "wordnet_lemmatizer = WordNetLemmatizer() # 06 Tejas Ingle\n",
        "words2 = [\"Unexpected\", \"disagreement\", \"disagree\", \"agreement\", \"quirkiness\", \"historical\",\"studies\", \"cleaning\"]\n",
        "\n",
        "for w in words2:\n",
        "    print(\"Lemma for {} is {}\".format(w, wordnet_lemmatizer.lemmatize(w)))\n"
      ]
    }
  ]
}