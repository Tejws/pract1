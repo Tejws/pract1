{
  "nbformat": 4,
  "nbformat_minor": 0,
  "metadata": {
    "colab": {
      "provenance": []
    },
    "kernelspec": {
      "name": "python3",
      "display_name": "Python 3"
    },
    "language_info": {
      "name": "python"
    }
  },
  "cells": [
    {
      "cell_type": "code",
      "execution_count": 1,
      "metadata": {
        "colab": {
          "base_uri": "https://localhost:8080/"
        },
        "id": "tj4Su2C7lJ1S",
        "outputId": "d64148fb-d548-403d-b90a-3d2fc36e5572"
      },
      "outputs": [
        {
          "output_type": "stream",
          "name": "stdout",
          "text": [
            "Unexpected  - Stem -  unexpect\n",
            "disagreement  - Stem -  disagr\n",
            "disagree  - Stem -  disagre\n",
            "agreement  - Stem -  agreement\n",
            "quirkiness  - Stem -  quirki\n",
            "historical  - Stem -  histor\n",
            "cleaning  - Stem -  clean\n"
          ]
        }
      ],
      "source": [
        "from nltk.stem import PorterStemmer as ps\n",
        "\n",
        "words = [\"Unexpected\", \"disagreement\", \"disagree\", \"agreement\", \"quirkiness\", \"historical\", \"cleaning\"]\n",
        "for w in words:\n",
        "    stemPrint = ps().stem(w)\n",
        "    print(w, \" - Stem - \", stemPrint) # 06 Tejas Ingle\n"
      ]
    }
  ]
}