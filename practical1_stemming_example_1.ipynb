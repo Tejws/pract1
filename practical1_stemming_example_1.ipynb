{
  "nbformat": 4,
  "nbformat_minor": 0,
  "metadata": {
    "colab": {
      "provenance": []
    },
    "kernelspec": {
      "name": "python3",
      "display_name": "Python 3"
    },
    "language_info": {
      "name": "python"
    }
  },
  "cells": [
    {
      "cell_type": "code",
      "execution_count": 2,
      "metadata": {
        "colab": {
          "base_uri": "https://localhost:8080/"
        },
        "id": "G6ZHwwMA9VBI",
        "outputId": "da8fbaca-fc22-4f67-e67b-92f54358d8d9"
      },
      "outputs": [
        {
          "output_type": "stream",
          "name": "stdout",
          "text": [
            "Original Words: ['I', 'am', 'a', 'Student', 'of', 'Somaiya', 'University.']\n",
            "Stemmed: I → i\n",
            "Stemmed: am → am\n",
            "Stemmed: a → a\n",
            "Stemmed: Student → student\n",
            "Stemmed: of → of\n",
            "Stemmed: Somaiya → somaiya\n",
            "Stemmed: University. → university.\n"
          ]
        }
      ],
      "source": [
        "from nltk.stem import PorterStemmer\n",
        "\n",
        "# Sample sentence\n",
        "text4 = \"I am a Student of Somaiya University.\".split()\n",
        "print(\"Original Words:\", text4)\n",
        "\n",
        "# Initialize stemmer once\n",
        "stemmer = PorterStemmer()\n",
        "\n",
        "# Apply stemming\n",
        "for w in text4:\n",
        "    rootWord = stemmer.stem(w)\n",
        "    print(f\"Stemmed: {w} → {rootWord}\")\n"
      ]
    }
  ]
}