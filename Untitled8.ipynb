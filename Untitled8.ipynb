{
  "nbformat": 4,
  "nbformat_minor": 0,
  "metadata": {
    "colab": {
      "provenance": []
    },
    "kernelspec": {
      "name": "python3",
      "display_name": "Python 3"
    },
    "language_info": {
      "name": "python"
    }
  },
  "cells": [
    {
      "cell_type": "code",
      "execution_count": null,
      "metadata": {
        "id": "l15-AE6MQ_K3"
      },
      "outputs": [],
      "source": [
        "import nltk\n",
        "nltk.download('all')\n",
        "\n",
        "# Import the necessary libraries\n",
        "import nltk\n",
        "from nltk.tokenize import word_tokenize\n",
        "from nltk.tag import pos_tag\n",
        "from nltk.chunk import ne_chunk\n",
        "\n",
        "# Download required NLTK resources\n",
        "nltk.download('punkt')\n",
        "nltk.download('averaged_perceptron_tagger') # 06 Tejas Ingle\n",
        "nltk.download('maxent_ne_chunker')\n",
        "nltk.download('words')\n",
        "\n",
        "# Sample sentence (fixed incomplete quote)\n",
        "sent = '''Prime Minister Jacinda Ardern has claimed that New Zealand had won a big battle over the pandemic.'''\n",
        "\n",
        "# Tokenization and POS tagging\n",
        "words = word_tokenize(sent)\n",
        "postags = pos_tag(words)\n",
        "\n",
        "# Output POS tagging result\n",
        "print(\"Part-of-Speech Tags:\\n\", postags)\n",
        "\n",
        "# Named Entity Recognition (NER)\n",
        "ne_tree = ne_chunk(postags, binary=False)\n",
        "print(\"\\nNamed Entity Tree:\\n\")\n",
        "print(ne_tree)\n",
        "\n",
        "# Sample data to identify entities linked to 'Atlanta'\n",
        "locs = [\n",
        "    ('Omnicom', 'IN', 'New York'),\n",
        "    ('DDB Needham', 'IN', 'New York'),\n",
        "    ('Kaplan Thaler Group', 'IN', 'New York'),\n",
        "    ('BBDO South', 'IN', 'Atlanta'),\n",
        "    ('Georgia-Pacific', 'IN', 'Atlanta')\n",
        "]\n",
        "\n",
        "# Query entities related to Atlanta\n",
        "query = [e1 for (e1, rel, e2) in locs if e2 == 'Atlanta']\n",
        "print(\"\\nEntities related to Atlanta:\", query)\n"
      ]
    },
    {
      "cell_type": "code",
      "source": [
        "from nltk.chunk import tree2conlltags\n",
        "#from pprint import pprint\n",
        "iob_tagged = tree2conlltags(ne_tree)\n",
        "print(iob_tagged)\n"
      ],
      "metadata": {
        "id": "5QyhoL9VRGcK"
      },
      "execution_count": null,
      "outputs": []
    }
  ]
}